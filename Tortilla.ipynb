{
 "cells": [
  {
   "cell_type": "code",
   "execution_count": null,
   "id": "c1fd8a47-7137-4b09-a85e-38d8893b93cf",
   "metadata": {},
   "outputs": [],
   "source": [
    "import panda as pd\n",
    "import matplotlib.pyplot as plt\n",
    "import numpy as np"
   ]
  },
  {
   "cell_type": "code",
   "execution_count": null,
   "id": "f6930b5b-5068-444e-b2e8-ffd6b3ab5c63",
   "metadata": {},
   "outputs": [],
   "source": [
    "rain_df = pd.read_csv(\"../Resources/avg_rain_state.csv\")\n",
    "rain_df.head()"
   ]
  }
 ],
 "metadata": {
  "kernelspec": {
   "display_name": "Python 3 (ipykernel)",
   "language": "python",
   "name": "python3"
  },
  "language_info": {
   "codemirror_mode": {
    "name": "ipython",
    "version": 3
   },
   "file_extension": ".py",
   "mimetype": "text/x-python",
   "name": "python",
   "nbconvert_exporter": "python",
   "pygments_lexer": "ipython3",
   "version": "3.10.15"
  }
 },
 "nbformat": 4,
 "nbformat_minor": 5
}
